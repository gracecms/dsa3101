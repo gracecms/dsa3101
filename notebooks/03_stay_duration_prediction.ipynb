{
 "cells": [
  {
   "cell_type": "code",
   "execution_count": 7,
   "metadata": {},
   "outputs": [],
   "source": [
    "# importing packages\n",
    "import pandas as pd\n",
    "import numpy as np\n",
    "import matplotlib.pyplot as plt \n",
    "from datetime import datetime\n",
    "\n",
    "from sklearn.ensemble import ExtraTreesRegressor, GradientBoostingRegressor\n",
    "from sklearn.tree import DecisionTreeRegressor\n",
    "from sklearn.model_selection import GridSearchCV, RandomizedSearchCV, train_test_split\n",
    "from sklearn.metrics import mean_squared_error as mse\n",
    "from sklearn import metrics\n",
    "from sklearn.linear_model import LinearRegression\n",
    "\n",
    "import pickle\n",
    "\n",
    "import json"
   ]
  },
  {
   "cell_type": "code",
   "execution_count": 8,
   "metadata": {},
   "outputs": [],
   "source": [
    "# reading in train and test datasets\n",
    "train_df = pd.read_csv('../data/train_origin.csv')\n",
    "test_df = pd.read_csv('../data/test.csv')\n",
    "\n",
    "# summing up duration-related columns to use as target variable \n",
    "train_df['Total_Duration'] = train_df['Administrative_Duration'] + train_df['Informational_Duration'] + train_df['ProductRelated_Duration']\n",
    "test_df['Total_Duration'] = test_df['Administrative_Duration'] + test_df['Informational_Duration'] + test_df['ProductRelated_Duration']                      "
   ]
  },
  {
   "cell_type": "code",
   "execution_count": 5,
   "metadata": {},
   "outputs": [],
   "source": [
    "# removing irrelevant columns (including columns that are considered as real-time information)\n",
    "train_df = train_df.drop(columns=['Administrative', 'Administrative_Duration', 'Informational', 'Informational_Duration', 'ProductRelated','ProductRelated_Duration', 'BounceRates', 'ExitRates', 'PageValues', 'Revenue'])\n",
    "\n",
    "test_df = test_df.drop(columns=['Administrative', 'Administrative_Duration', 'Informational', 'Informational_Duration', 'ProductRelated', 'ProductRelated_Duration', 'BounceRates', 'ExitRates', 'PageValues', 'Revenue'])"
   ]
  },
  {
   "cell_type": "code",
   "execution_count": 6,
   "metadata": {},
   "outputs": [
    {
     "name": "stdout",
     "output_type": "stream",
     "text": [
      "train_df shape before dropping duplicates:  (8631, 67)\n",
      "train_df shape after dropping duplicates:  (8520, 67)\n",
      "test_df shape before dropping duplicates:  (3699, 67)\n",
      "test_df shape after dropping duplicates:  (3673, 67)\n"
     ]
    }
   ],
   "source": [
    "# dropping duplicate values\n",
    "print('train_df shape before dropping duplicates: ', train_df.shape)\n",
    "train = train_df.drop_duplicates()\n",
    "print('train_df shape after dropping duplicates: ', train.shape)\n",
    "print('test_df shape before dropping duplicates: ', test_df.shape)\n",
    "test = test_df.drop_duplicates()\n",
    "print('test_df shape after dropping duplicates: ', test.shape)"
   ]
  },
  {
   "cell_type": "code",
   "execution_count": 7,
   "metadata": {},
   "outputs": [
    {
     "name": "stdout",
     "output_type": "stream",
     "text": [
      "X_train shape:  (8520, 66)\n",
      "y_train shape:  (8520,)\n",
      "X_test shape:  (3673, 66)\n",
      "y_test shape:  (3673,)\n"
     ]
    }
   ],
   "source": [
    "# separating the target variable\n",
    "X_train = train.iloc[:,:-1]\n",
    "y_train = train.iloc[:,-1]\n",
    "print('X_train shape: ', X_train.shape)\n",
    "print('y_train shape: ', y_train.shape)\n",
    "X_test = test.iloc[:,:-1]\n",
    "y_test = test.iloc[:,-1]\n",
    "print('X_test shape: ', X_test.shape)\n",
    "print('y_test shape: ', y_test.shape)"
   ]
  },
  {
   "cell_type": "code",
   "execution_count": 8,
   "metadata": {},
   "outputs": [
    {
     "name": "stdout",
     "output_type": "stream",
     "text": [
      "X_train_ shape:  (6816, 66)\n",
      "y_train_ shape:  (6816,)\n",
      "X_val shape:  (1704, 66)\n",
      "y_val shape:  (1704,)\n"
     ]
    }
   ],
   "source": [
    "# obtaining validation set\n",
    "X_train_, X_val, y_train_, y_val = train_test_split(X_train, y_train, test_size=0.2, random_state=42)\n",
    "print('X_train_ shape: ', X_train_.shape)\n",
    "print('y_train_ shape: ', y_train_.shape)\n",
    "print('X_val shape: ', X_val.shape)\n",
    "print('y_val shape: ', y_val.shape)"
   ]
  },
  {
   "cell_type": "code",
   "execution_count": 9,
   "metadata": {},
   "outputs": [],
   "source": [
    "# define relu function to be used on the predictions\n",
    "def relu(x):\n",
    "    return np.maximum(0,x)"
   ]
  },
  {
   "cell_type": "code",
   "execution_count": 10,
   "metadata": {},
   "outputs": [],
   "source": [
    "# define empty dataframe used to store metrics values for the different models\n",
    "score_df = pd.DataFrame()\n",
    "score_df.index = ['MAE', 'MSE', 'RMSE']"
   ]
  },
  {
   "cell_type": "code",
   "execution_count": 11,
   "metadata": {},
   "outputs": [
    {
     "data": {
      "image/png": "[encoded data removed]",
      "text/plain": [
       "<Figure size 432x288 with 1 Axes>"
      ]
     },
     "metadata": {
      "needs_background": "light"
     },
     "output_type": "display_data"
    }
   ],
   "source": [
    "# creating an object of ExtraTreesRegressor class\n",
    "reg = ExtraTreesRegressor()\n",
    "reg.fit(X_train_,y_train_)\n",
    "\n",
    "# getting feature importance\n",
    "feat_importances = pd.Series(reg.feature_importances_, index=X_train_.columns)\n",
    "feat_importances.nlargest(5).plot(kind='barh')\n",
    "plt.show()"
   ]
  },
  {
   "cell_type": "markdown",
   "metadata": {},
   "source": [
    "### Decision Tree Regression"
   ]
  },
  {
   "cell_type": "code",
   "execution_count": 12,
   "metadata": {},
   "outputs": [
    {
     "name": "stdout",
     "output_type": "stream",
     "text": [
      "1 6.907292610251152\n",
      "2 6.903718895164162\n",
      "4 6.89318584435934\n",
      "5 6.76110599046892\n",
      "6 6.6805637017735515\n",
      "7 6.660886261678447\n"
     ]
    }
   ],
   "source": [
    "# obtaining the optimal columns to use for DecisionTreeRegressor\n",
    "min_score = np.inf\n",
    "best_num = 0\n",
    "for i in range(1, X_train_.shape[1]+1):    \n",
    "    impt_cols = list(feat_importances.nlargest(i).keys())\n",
    "    \n",
    "    # creating an object of DecisionTreeRegressor class\n",
    "    reg_decision_model = DecisionTreeRegressor()\n",
    "    reg_decision_model.fit(X_train_[impt_cols],y_train_)\n",
    "    \n",
    "    y_pred = reg_decision_model.predict(X_val[impt_cols])\n",
    "    \n",
    "    if mse(y_val, y_pred) < min_score:\n",
    "        min_score = mse(y_val, y_pred)\n",
    "        best_num = i\n",
    "        print(best_num, min_score)\n",
    "\n",
    "dt_impt_cols = list(feat_importances.nlargest(best_num).keys())"
   ]
  },
  {
   "cell_type": "code",
   "execution_count": 13,
   "metadata": {},
   "outputs": [
    {
     "data": {
      "text/plain": [
       "['Region_1',\n",
       " 'Weekend_False',\n",
       " 'Weekend_True',\n",
       " 'OperatingSystems_2',\n",
       " 'TrafficType_2',\n",
       " 'VisitorType_Returning_Visitor',\n",
       " 'Browser_4']"
      ]
     },
     "execution_count": 13,
     "metadata": {},
     "output_type": "execute_result"
    }
   ],
   "source": [
    "dt_impt_cols"
   ]
  },
  {
   "cell_type": "code",
   "execution_count": 13,
   "metadata": {},
   "outputs": [],
   "source": [
    "# creating an object of DecisionTreeRegressor class\n",
    "reg_decision_model = DecisionTreeRegressor()"
   ]
  },
  {
   "cell_type": "code",
   "execution_count": 14,
   "metadata": {},
   "outputs": [],
   "source": [
    "# parameters for grid search\n",
    "parameters={\"splitter\":[\"best\",\"random\"],\n",
    "            \"max_depth\" : [1,3,5,7,9,11,12],\n",
    "           \"min_samples_leaf\":[1,2,3,4,5,6,7,8,9,10],\n",
    "           \"min_weight_fraction_leaf\":[0.1,0.2,0.3,0.4,0.5,0.6,0.7,0.8,0.9],\n",
    "           \"max_features\":[\"auto\",\"log2\",\"sqrt\",None],\n",
    "           \"max_leaf_nodes\":[None,10,20,30,40,50,60,70,80,90] }"
   ]
  },
  {
   "cell_type": "code",
   "execution_count": 15,
   "metadata": {},
   "outputs": [],
   "source": [
    "# creating an object of GridSearchCV class for hyperparameter tuning\n",
    "dt_tuning_model = GridSearchCV(reg_decision_model,param_grid=parameters,scoring='neg_mean_squared_error',cv=5,verbose=3)"
   ]
  },
  {
   "cell_type": "code",
   "execution_count": 16,
   "metadata": {},
   "outputs": [
    {
     "name": "stdout",
     "output_type": "stream",
     "text": [
      "Wall time: 10min 21s\n"
     ]
    }
   ],
   "source": [
    "# hyperparameter tuning\n",
    "%%time\n",
    "%%capture\n",
    "dt_tuning_model.fit(X_train_[dt_impt_cols],y_train_)"
   ]
  },
  {
   "cell_type": "code",
   "execution_count": 17,
   "metadata": {},
   "outputs": [
    {
     "data": {
      "text/plain": [
       "{'max_depth': 9,\n",
       " 'max_features': 'log2',\n",
       " 'max_leaf_nodes': 50,\n",
       " 'min_samples_leaf': 3,\n",
       " 'min_weight_fraction_leaf': 0.1,\n",
       " 'splitter': 'random'}"
      ]
     },
     "execution_count": 17,
     "metadata": {},
     "output_type": "execute_result"
    }
   ],
   "source": [
    "# best hyperparameters \n",
    "dt_tuning_model.best_params_"
   ]
  },
  {
   "cell_type": "code",
   "execution_count": 18,
   "metadata": {},
   "outputs": [
    {
     "data": {
      "text/plain": [
       "-4.481933651598598"
      ]
     },
     "execution_count": 18,
     "metadata": {},
     "output_type": "execute_result"
    }
   ],
   "source": [
    "dt_tuning_model.best_score_"
   ]
  },
  {
   "cell_type": "code",
   "execution_count": 14,
   "metadata": {},
   "outputs": [],
   "source": [
    "# creating an object of DecisionTreeRegressor class with optimal parameters\n",
    "dt_tuned_hyper_model= DecisionTreeRegressor(max_depth=9,max_features='log2',max_leaf_nodes=50,min_samples_leaf=3,min_weight_fraction_leaf=0.1,splitter='random')"
   ]
  },
  {
   "cell_type": "code",
   "execution_count": 15,
   "metadata": {},
   "outputs": [
    {
     "data": {
      "text/plain": [
       "DecisionTreeRegressor(max_depth=9, max_features='log2', max_leaf_nodes=50,\n",
       "                      min_samples_leaf=3, min_weight_fraction_leaf=0.1,\n",
       "                      splitter='random')"
      ]
     },
     "execution_count": 15,
     "metadata": {},
     "output_type": "execute_result"
    }
   ],
   "source": [
    "# fitting model to training set\n",
    "dt_tuned_hyper_model.fit(X_train_[dt_impt_cols],y_train_)"
   ]
  },
  {
   "cell_type": "code",
   "execution_count": 16,
   "metadata": {},
   "outputs": [
    {
     "name": "stdout",
     "output_type": "stream",
     "text": [
      "MAE: 1.317963049303732\n",
      "MSE: 6.889988044635591\n",
      "RMSE: 2.624878672364799\n"
     ]
    }
   ],
   "source": [
    "# testing the tuned model with the validation set\n",
    "dt_tuned_pred_val = relu(dt_tuned_hyper_model.predict(X_val[dt_impt_cols]))\n",
    "\n",
    "print('MAE:', metrics.mean_absolute_error(y_val,dt_tuned_pred_val))\n",
    "print('MSE:', metrics.mean_squared_error(y_val, dt_tuned_pred_val))\n",
    "print('RMSE:', np.sqrt(metrics.mean_squared_error(y_val, dt_tuned_pred_val)))"
   ]
  },
  {
   "cell_type": "code",
   "execution_count": 18,
   "metadata": {},
   "outputs": [],
   "source": [
    "# saving validation results to score_df\n",
    "score_df['DecisionTreeRegressor'] = np.array([metrics.mean_absolute_error(y_val,dt_tuned_pred_val),\n",
    "                                              metrics.mean_squared_error(y_val, dt_tuned_pred_val),\n",
    "                                              np.sqrt(metrics.mean_squared_error(y_val, dt_tuned_pred_val))])"
   ]
  },
  {
   "cell_type": "markdown",
   "metadata": {},
   "source": [
    "### Linear Regression"
   ]
  },
  {
   "cell_type": "code",
   "execution_count": 19,
   "metadata": {},
   "outputs": [
    {
     "name": "stdout",
     "output_type": "stream",
     "text": [
      "1 6.907292610251152\n",
      "2 6.904127029190034\n",
      "4 6.902135240716614\n",
      "5 6.7845181526576\n",
      "6 6.746002907505769\n",
      "7 6.739994118221701\n",
      "8 6.734437354680547\n",
      "9 6.710122424583445\n",
      "10 6.707545330053155\n",
      "11 6.706920841273918\n",
      "13 6.6966049303958375\n",
      "16 6.694812539252705\n"
     ]
    }
   ],
   "source": [
    "# obtaining the optimal columns to use for LinearRegression\n",
    "min_score = np.inf\n",
    "best_num = 0\n",
    "for i in range(1, X_train_.shape[1]+1):    \n",
    "    impt_cols = list(feat_importances.nlargest(i).keys())\n",
    "    \n",
    "    # creating an object of LinearRegression class\n",
    "    LR = LinearRegression()\n",
    "    LR.fit(X_train_[impt_cols],y_train_)\n",
    "    \n",
    "    y_pred = LR.predict(X_val[impt_cols])\n",
    "    \n",
    "    if mse(y_val, y_pred) < min_score:\n",
    "        min_score = mse(y_val, y_pred)\n",
    "        best_num = i\n",
    "        print(best_num, min_score)\n",
    "\n",
    "lr_impt_cols = list(feat_importances.nlargest(best_num).keys())"
   ]
  },
  {
   "cell_type": "code",
   "execution_count": 20,
   "metadata": {},
   "outputs": [
    {
     "data": {
      "text/plain": [
       "['Region_1',\n",
       " 'Weekend_False',\n",
       " 'Weekend_True',\n",
       " 'OperatingSystems_2',\n",
       " 'TrafficType_2',\n",
       " 'VisitorType_Returning_Visitor',\n",
       " 'Browser_4',\n",
       " 'Region_3',\n",
       " 'Month_Nov',\n",
       " 'OperatingSystems_1',\n",
       " 'OperatingSystems_4',\n",
       " 'Region_2',\n",
       " 'Browser_2',\n",
       " 'Month_Jul',\n",
       " 'OperatingSystems_3',\n",
       " 'SpecialDay']"
      ]
     },
     "execution_count": 20,
     "metadata": {},
     "output_type": "execute_result"
    }
   ],
   "source": [
    "lr_impt_cols"
   ]
  },
  {
   "cell_type": "code",
   "execution_count": 21,
   "metadata": {},
   "outputs": [
    {
     "data": {
      "text/plain": [
       "LinearRegression()"
      ]
     },
     "execution_count": 21,
     "metadata": {},
     "output_type": "execute_result"
    }
   ],
   "source": [
    "# creating an object of LinearRegression class\n",
    "LR = LinearRegression()\n",
    "\n",
    "# fitting model to training set\n",
    "LR.fit(X_train_[lr_impt_cols],y_train_)"
   ]
  },
  {
   "cell_type": "code",
   "execution_count": 22,
   "metadata": {},
   "outputs": [
    {
     "name": "stdout",
     "output_type": "stream",
     "text": [
      "MAE: 1.2819118030378476\n",
      "MSE: 6.694515604648001\n",
      "RMSE: 2.587376200835124\n"
     ]
    }
   ],
   "source": [
    "# testing the model with the validation set\n",
    "y_prediction_val = relu(LR.predict(X_val[lr_impt_cols]))\n",
    "\n",
    "print('MAE:', metrics.mean_absolute_error(y_val,y_prediction_val))\n",
    "print('MSE:', metrics.mean_squared_error(y_val, y_prediction_val))\n",
    "print('RMSE:', np.sqrt(metrics.mean_squared_error(y_val, y_prediction_val)))"
   ]
  },
  {
   "cell_type": "code",
   "execution_count": 23,
   "metadata": {},
   "outputs": [],
   "source": [
    "# saving validation results to score_df\n",
    "score_df['LinearRegression'] = np.array([metrics.mean_absolute_error(y_val,y_prediction_val),\n",
    "                                              metrics.mean_squared_error(y_val, y_prediction_val),\n",
    "                                              np.sqrt(metrics.mean_squared_error(y_val, y_prediction_val))])"
   ]
  },
  {
   "cell_type": "markdown",
   "metadata": {},
   "source": [
    "### Gradient Boosting Regression"
   ]
  },
  {
   "cell_type": "code",
   "execution_count": 24,
   "metadata": {},
   "outputs": [
    {
     "name": "stdout",
     "output_type": "stream",
     "text": [
      "1 6.9072927240079816\n",
      "2 6.903719066775359\n",
      "4 6.893185709704401\n",
      "5 6.761647061614968\n",
      "6 6.701824874814142\n",
      "7 6.683301709122467\n",
      "9 6.668712480853729\n",
      "10 6.662112833186758\n",
      "13 6.654150185445455\n",
      "15 6.651024452197535\n",
      "16 6.649185540837635\n",
      "17 6.6472853441644855\n",
      "40 6.642947361615867\n"
     ]
    }
   ],
   "source": [
    "# obtaining the optimal columns to use for GradientBoostingRegressor\n",
    "min_score = np.inf\n",
    "best_num = 0\n",
    "for i in range(1, X_train_.shape[1]+1):    \n",
    "    impt_cols = list(feat_importances.nlargest(i).keys())\n",
    "    \n",
    "    # creating an object of GradientBoostingRegressor class\n",
    "    reg_decision_model = GradientBoostingRegressor()\n",
    "    reg_decision_model.fit(X_train_[impt_cols],y_train_)\n",
    "    \n",
    "    y_pred = reg_decision_model.predict(X_val[impt_cols])\n",
    "    \n",
    "    if mse(y_val, y_pred) < min_score:\n",
    "        min_score = mse(y_val, y_pred)\n",
    "        best_num = i\n",
    "        print(best_num, min_score)\n",
    "\n",
    "gbr_impt_cols = list(feat_importances.nlargest(best_num).keys())"
   ]
  },
  {
   "cell_type": "code",
   "execution_count": 25,
   "metadata": {},
   "outputs": [
    {
     "data": {
      "text/plain": [
       "['Region_1',\n",
       " 'Weekend_False',\n",
       " 'Weekend_True',\n",
       " 'OperatingSystems_2',\n",
       " 'TrafficType_2',\n",
       " 'VisitorType_Returning_Visitor',\n",
       " 'Browser_4',\n",
       " 'Region_3',\n",
       " 'Month_Nov',\n",
       " 'OperatingSystems_1',\n",
       " 'OperatingSystems_4',\n",
       " 'Region_2',\n",
       " 'Browser_2',\n",
       " 'Month_Jul',\n",
       " 'OperatingSystems_3',\n",
       " 'SpecialDay',\n",
       " 'Region_4',\n",
       " 'TrafficType_1',\n",
       " 'TrafficType_13',\n",
       " 'Browser_1',\n",
       " 'TrafficType_14',\n",
       " 'Region_6',\n",
       " 'Month_Dec',\n",
       " 'Region_7',\n",
       " 'Month_Sep',\n",
       " 'Region_9',\n",
       " 'TrafficType_3',\n",
       " 'Region_5',\n",
       " 'Month_Oct',\n",
       " 'Region_8',\n",
       " 'Browser_10',\n",
       " 'Browser_6',\n",
       " 'Browser_5',\n",
       " 'TrafficType_6',\n",
       " 'Month_May',\n",
       " 'VisitorType_New_Visitor',\n",
       " 'Month_June',\n",
       " 'TrafficType_10',\n",
       " 'Month_Mar',\n",
       " 'TrafficType_4']"
      ]
     },
     "execution_count": 25,
     "metadata": {},
     "output_type": "execute_result"
    }
   ],
   "source": [
    "gbr_impt_cols"
   ]
  },
  {
   "cell_type": "code",
   "execution_count": 94,
   "metadata": {},
   "outputs": [],
   "source": [
    "# creating an object of GradientBoostingRegressor class\n",
    "reg_gradient_model = GradientBoostingRegressor()"
   ]
  },
  {
   "cell_type": "code",
   "execution_count": 95,
   "metadata": {},
   "outputs": [],
   "source": [
    "# parameters for grid search\n",
    "params = {\"max_depth\" : [1,3,5,7,9,11,12],\n",
    "          \"max_features\":[\"auto\",\"log2\",\"sqrt\",None],\n",
    "          \"learning_rate\": [0.001,0.01,0.05,0.1],\n",
    "          \"loss\": ['quantile'],\n",
    "          \"alpha\": [0.1,0.2,0.3,0.4,0.5,0.6,0.7,0.8,0.9]}"
   ]
  },
  {
   "cell_type": "code",
   "execution_count": 96,
   "metadata": {},
   "outputs": [],
   "source": [
    "# creating an object of GridSearchCV class for hyperparameter tuning\n",
    "gbr_tuning_model = GridSearchCV(reg_gradient_model,param_grid=params,scoring='neg_mean_squared_error',cv=5,verbose=3)"
   ]
  },
  {
   "cell_type": "code",
   "execution_count": 97,
   "metadata": {},
   "outputs": [
    {
     "name": "stdout",
     "output_type": "stream",
     "text": [
      "Wall time: 4h 55min 13s\n"
     ]
    }
   ],
   "source": [
    "# hyperparameter tuning\n",
    "%%time\n",
    "%%capture\n",
    "gbr_tuning_model.fit(X_train_[gbr_impt_cols],y_train_)"
   ]
  },
  {
   "cell_type": "code",
   "execution_count": 98,
   "metadata": {},
   "outputs": [
    {
     "data": {
      "text/plain": [
       "{'alpha': 0.7,\n",
       " 'learning_rate': 0.05,\n",
       " 'loss': 'quantile',\n",
       " 'max_depth': 5,\n",
       " 'max_features': 'sqrt'}"
      ]
     },
     "execution_count": 98,
     "metadata": {},
     "output_type": "execute_result"
    }
   ],
   "source": [
    "# best hyperparameters\n",
    "gbr_tuning_model.best_params_"
   ]
  },
  {
   "cell_type": "code",
   "execution_count": 99,
   "metadata": {},
   "outputs": [
    {
     "data": {
      "text/plain": [
       "-4.351408481062597"
      ]
     },
     "execution_count": 99,
     "metadata": {},
     "output_type": "execute_result"
    }
   ],
   "source": [
    "gbr_tuning_model.best_score_"
   ]
  },
  {
   "cell_type": "code",
   "execution_count": 26,
   "metadata": {},
   "outputs": [],
   "source": [
    "# creating an object of GradientBoostingRegressor class with optimal parameters\n",
    "gbr_tuned_hyper_model = GradientBoostingRegressor(alpha=0.7,max_features='sqrt',learning_rate=0.05,loss='quantile',max_depth=5)"
   ]
  },
  {
   "cell_type": "code",
   "execution_count": 27,
   "metadata": {},
   "outputs": [
    {
     "data": {
      "text/plain": [
       "GradientBoostingRegressor(alpha=0.7, learning_rate=0.05, loss='quantile',\n",
       "                          max_depth=5, max_features='sqrt')"
      ]
     },
     "execution_count": 27,
     "metadata": {},
     "output_type": "execute_result"
    }
   ],
   "source": [
    "# fitting model to training set\n",
    "gbr_tuned_hyper_model.fit(X_train_[gbr_impt_cols],y_train_)"
   ]
  },
  {
   "cell_type": "code",
   "execution_count": 28,
   "metadata": {},
   "outputs": [
    {
     "name": "stdout",
     "output_type": "stream",
     "text": [
      "MAE: 1.2741571503135958\n",
      "MSE: 6.637096077176464\n",
      "RMSE: 2.576256213418313\n"
     ]
    }
   ],
   "source": [
    "# testing the tuned model with the validation set\n",
    "gbr_tuned_pred_val = relu(gbr_tuned_hyper_model.predict(X_val[gbr_impt_cols]))\n",
    "\n",
    "print('MAE:', metrics.mean_absolute_error(y_val,gbr_tuned_pred_val))\n",
    "print('MSE:', metrics.mean_squared_error(y_val, gbr_tuned_pred_val))\n",
    "print('RMSE:', np.sqrt(metrics.mean_squared_error(y_val, gbr_tuned_pred_val)))"
   ]
  },
  {
   "cell_type": "code",
   "execution_count": 29,
   "metadata": {},
   "outputs": [],
   "source": [
    "# saving validation results to score_df\n",
    "score_df['GradientBoostingRegressor'] = np.array([metrics.mean_absolute_error(y_val,gbr_tuned_pred_val),\n",
    "                                              metrics.mean_squared_error(y_val, gbr_tuned_pred_val),\n",
    "                                              np.sqrt(metrics.mean_squared_error(y_val, gbr_tuned_pred_val))])"
   ]
  },
  {
   "cell_type": "markdown",
   "metadata": {},
   "source": [
    "### Evaluation and Final Model"
   ]
  },
  {
   "cell_type": "code",
   "execution_count": 30,
   "metadata": {},
   "outputs": [
    {
     "data": {
      "text/html": [
       "<div>\n",
       "<style scoped>\n",
       "    .dataframe tbody tr th:only-of-type {\n",
       "        vertical-align: middle;\n",
       "    }\n",
       "\n",
       "    .dataframe tbody tr th {\n",
       "        vertical-align: top;\n",
       "    }\n",
       "\n",
       "    .dataframe thead th {\n",
       "        text-align: right;\n",
       "    }\n",
       "</style>\n",
       "<table border=\"1\" class=\"dataframe\">\n",
       "  <thead>\n",
       "    <tr style=\"text-align: right;\">\n",
       "      <th></th>\n",
       "      <th>DecisionTreeRegressor</th>\n",
       "      <th>LinearRegression</th>\n",
       "      <th>GradientBoostingRegressor</th>\n",
       "    </tr>\n",
       "  </thead>\n",
       "  <tbody>\n",
       "    <tr>\n",
       "      <th>MAE</th>\n",
       "      <td>1.317963</td>\n",
       "      <td>1.281912</td>\n",
       "      <td>1.274157</td>\n",
       "    </tr>\n",
       "    <tr>\n",
       "      <th>MSE</th>\n",
       "      <td>6.889988</td>\n",
       "      <td>6.694516</td>\n",
       "      <td>6.637096</td>\n",
       "    </tr>\n",
       "    <tr>\n",
       "      <th>RMSE</th>\n",
       "      <td>2.624879</td>\n",
       "      <td>2.587376</td>\n",
       "      <td>2.576256</td>\n",
       "    </tr>\n",
       "  </tbody>\n",
       "</table>\n",
       "</div>"
      ],
      "text/plain": [
       "      DecisionTreeRegressor  LinearRegression  GradientBoostingRegressor\n",
       "MAE                1.317963          1.281912                   1.274157\n",
       "MSE                6.889988          6.694516                   6.637096\n",
       "RMSE               2.624879          2.587376                   2.576256"
      ]
     },
     "execution_count": 30,
     "metadata": {},
     "output_type": "execute_result"
    }
   ],
   "source": [
    "score_df"
   ]
  },
  {
   "cell_type": "code",
   "execution_count": 31,
   "metadata": {},
   "outputs": [
    {
     "name": "stdout",
     "output_type": "stream",
     "text": [
      "MAE: 1.2561356867105453\n",
      "MSE: 4.337133894901668\n",
      "RMSE: 2.0825786647571487\n"
     ]
    }
   ],
   "source": [
    "final_model = GradientBoostingRegressor(alpha=0.7,max_features='sqrt',learning_rate=0.05,loss='quantile',max_depth=5)\n",
    "# fitting the model to the full train dataset\n",
    "final_model.fit(X_train[gbr_impt_cols],y_train)\n",
    "final_pred = relu(final_model.predict(X_test[gbr_impt_cols]))\n",
    "    \n",
    "print('MAE:', metrics.mean_absolute_error(y_test,final_pred))\n",
    "print('MSE:', metrics.mean_squared_error(y_test, final_pred))\n",
    "print('RMSE:', np.sqrt(metrics.mean_squared_error(y_test, final_pred)))"
   ]
  },
  {
   "cell_type": "code",
   "execution_count": 33,
   "metadata": {},
   "outputs": [],
   "source": [
    "# saving columns used in the model\n",
    "col_dict = {'columns': gbr_impt_cols}\n",
    "with open('../trained_models/stay_duration_pred.json', 'w') as f:\n",
    "    json.dump(col_dict, f)"
   ]
  },
  {
   "cell_type": "code",
   "execution_count": 34,
   "metadata": {},
   "outputs": [],
   "source": [
    "# save the model to disk\n",
    "filename = '../trained_models/stay_duration_pred.sav'\n",
    "pickle.dump(final_model, open(filename, 'wb'))\n"
   ]
  }
 ],
 "metadata": {
  "kernelspec": {
   "name": "python3",
   "display_name": "Python 3.9.5 64-bit"
  },
  "language_info": {
   "codemirror_mode": {
    "name": "ipython",
    "version": 3
   },
   "file_extension": ".py",
   "mimetype": "text/x-python",
   "name": "python",
   "nbconvert_exporter": "python",
   "pygments_lexer": "ipython3",
   "version": "3.9.5"
  },
  "interpreter": {
   "hash": "55bda7f6a3882832ddb0977e6913a31d0b47758aa2ccff05510fd18f5a854727"
  }
 },
 "nbformat": 4,
 "nbformat_minor": 4
}